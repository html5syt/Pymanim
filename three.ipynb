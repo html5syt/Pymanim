{
 "cells": [
  {
   "cell_type": "code",
   "execution_count": 1,
   "metadata": {},
   "outputs": [
    {
     "data": {
      "text/html": [
       "<pre style=\"white-space:pre;overflow-x:auto;line-height:normal;font-family:Menlo,'DejaVu Sans Mono',consolas,'Courier New',monospace\">Manim Community <span style=\"color: #008000; text-decoration-color: #008000\">v0.18.0</span>\n",
       "\n",
       "</pre>\n"
      ],
      "text/plain": [
       "Manim Community \u001b[32mv0.\u001b[0m\u001b[32m18.0\u001b[0m\n",
       "\n"
      ]
     },
     "metadata": {},
     "output_type": "display_data"
    }
   ],
   "source": [
    "from manim import *"
   ]
  },
  {
   "cell_type": "code",
   "execution_count": 6,
   "metadata": {},
   "outputs": [
    {
     "name": "stdout",
     "output_type": "stream",
     "text": [
      "\n"
     ]
    },
    {
     "name": "stderr",
     "output_type": "stream",
     "text": [
      "/usr/local/lib/python3.10/dist-packages/jupyter_manim/__init__.py:140: UserWarning: Pickling failed: Could not find IPython frame\n",
      "  warn('Pickling failed: ' + str(e))\n",
      "/usr/local/lib/python3.10/dist-packages/jupyter_manim/__init__.py:247: UserWarning: Assembling imports failed: Could not find IPython frame\n",
      "  warn('Assembling imports failed: ' + str(e))\n",
      "/usr/local/lib/python3.10/dist-packages/jupyter_manim/__init__.py:297: UserWarning: Could not find path in the manim output\n",
      "  warn('Could not find path in the manim output')\n",
      "usage: manim [-h] [-p] [-w] [-s] [-l] [-m] [--high_quality] [-g] [-i] [-f]\n",
      "             [-t] [-q] [-a] [-o FILE_NAME] [-n START_AT_ANIMATION_NUMBER]\n",
      "             [-r RESOLUTION] [-c COLOR] [--sound] [--leave_progress_bars]\n",
      "             [--media_dir MEDIA_DIR]\n",
      "             [--video_dir VIDEO_DIR | --video_output_dir VIDEO_OUTPUT_DIR]\n",
      "             [--tex_dir TEX_DIR]\n",
      "             file [scene_names ...]\n",
      "manim: error: unrecognized arguments: s0\n",
      "\n"
     ]
    }
   ],
   "source": [
    "%%manim -qm -v WARNING s0\n",
    "class s0(Scene):\n",
    "    def construct(self):\n",
    "        title = Text(\"Introduction to Python and Jupyter\")\n",
    "        title.scale(1.5)\n",
    "        title.to_edge(UP)\n",
    "        #\n",
    "        subtitle = Text(\"Introduction\")\n",
    "        subtitle.scale(0.75)\n",
    "        subtitle.next_to(title, DOWN)\n",
    "        #\n",
    "        self.play(Write(title))\n",
    "        self.play(Write(subtitle))\n",
    "        self.wait(2)\n",
    "\n",
    "        code_title = Text(\"Code\")\n",
    "        code_title.scale(0.75)"
   ]
  }
 ],
 "metadata": {
  "kernelspec": {
   "display_name": "Python 3",
   "language": "python",
   "name": "python3"
  },
  "language_info": {
   "codemirror_mode": {
    "name": "ipython",
    "version": 3
   },
   "file_extension": ".py",
   "mimetype": "text/x-python",
   "name": "python",
   "nbconvert_exporter": "python",
   "pygments_lexer": "ipython3",
   "version": "3.10.12"
  },
  "orig_nbformat": 4
 },
 "nbformat": 4,
 "nbformat_minor": 2
}
